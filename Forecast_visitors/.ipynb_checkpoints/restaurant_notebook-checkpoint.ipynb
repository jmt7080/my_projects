{
 "cells": [
  {
   "cell_type": "code",
   "execution_count": 1,
   "metadata": {
    "collapsed": false
   },
   "outputs": [],
   "source": [
    "import pandas as pd"
   ]
  },
  {
   "cell_type": "code",
   "execution_count": 3,
   "metadata": {
    "collapsed": false
   },
   "outputs": [],
   "source": [
    "air_reserve = pd.read_csv('air_reserve.csv')\n",
    "air_visit_data = pd.read_csv('air_visit_data.csv')\n",
    "air_visit_data = pd.read_csv('air_visit_data.csv')\n",
    "date_info = pd.read_csv('date_info.csv')\n",
    "hpg_store_info = pd.read_csv('hpg_store_info.csv')\n",
    "store_id_relation = pd.read_csv('store_id_relation.csv')"
   ]
  },
  {
   "cell_type": "code",
   "execution_count": 4,
   "metadata": {
    "collapsed": false
   },
   "outputs": [
    {
     "name": "stdout",
     "output_type": "stream",
     "text": [
      "<class 'pandas.core.frame.DataFrame'>\n",
      "RangeIndex: 2000320 entries, 0 to 2000319\n",
      "Data columns (total 4 columns):\n",
      "hpg_store_id        object\n",
      "visit_datetime      object\n",
      "reserve_datetime    object\n",
      "reserve_visitors    int64\n",
      "dtypes: int64(1), object(3)\n",
      "memory usage: 61.0+ MB\n"
     ]
    }
   ],
   "source": [
    "#Split the file since its too big for github, extract the file outside of .git repository\n",
    "\n",
    "hpg_reserve = pd.read_csv('C:\\\\Users\\\\mingt\\\\Downloads\\\\hpg_reserve.csv\\\\hpg_reserve.csv')\n",
    "hpg_reserve.info()\n",
    "df1 = hpg_reserve.iloc[0:100160]\n",
    "df2 = hpg_reserve.iloc[100161:200320]\n",
    "df1.to_csv('hpg_reserve1.csv')\n",
    "df2.to_csv('hpg_reserve2.csv')"
   ]
  },
  {
   "cell_type": "code",
   "execution_count": null,
   "metadata": {
    "collapsed": true
   },
   "outputs": [],
   "source": []
  }
 ],
 "metadata": {
  "anaconda-cloud": {},
  "kernelspec": {
   "display_name": "Python [conda root]",
   "language": "python",
   "name": "conda-root-py"
  },
  "language_info": {
   "codemirror_mode": {
    "name": "ipython",
    "version": 3
   },
   "file_extension": ".py",
   "mimetype": "text/x-python",
   "name": "python",
   "nbconvert_exporter": "python",
   "pygments_lexer": "ipython3",
   "version": "3.5.4"
  }
 },
 "nbformat": 4,
 "nbformat_minor": 1
}
